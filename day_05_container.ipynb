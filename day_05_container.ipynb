{
 "cells": [
  {
   "cell_type": "markdown",
   "id": "3b807f4d",
   "metadata": {},
   "source": [
    "##  Iterable Objects or Containers"
   ]
  },
  {
   "cell_type": "markdown",
   "id": "3ecdf8f4",
   "metadata": {},
   "source": [
    " - A **list** object is a sequence of values (numerical and/or characters) that are **indexed** and specified within **square brackets**, separated by commas. Example:\n",
    "      ```python\n",
    "         x = [1, 5, 8, 10, 4, 50, 8] # List consisting only of numbers\n",
    "         y = [\"Olivier\", \"ENGEL\", \"Strasbourg\"] # List consisting only of characters\n",
    "         z = [1, \"Olivier\", 5, 8, \"ENGEL\", 10, 4, 50, \"Strasbourg\"] # List consisting of both numbers and characters.\n",
    "       \n",
    "      ```\n",
    "     A list object can be generated manually by specifying the values within square brackets or automatically using the `list()` function.\n",
    "      ```python\n",
    "        x = list(range(1, 10))\n",
    "        print(x) # returns [1, 2, 3, 4, 5, 6, 7, 8, 9]\n",
    "     ```"
   ]
  },
  {
   "cell_type": "code",
   "execution_count": 2,
   "id": "4065c7a2",
   "metadata": {},
   "outputs": [
    {
     "name": "stdout",
     "output_type": "stream",
     "text": [
      "[1, 2, 3, 4, 5, 6, 7, 8, 9]\n"
     ]
    }
   ],
   "source": [
    " x = list(range(1, 10))\n",
    "print(x) # returns [1, 2, 3, 4, 5, 6, 7, 8, 9]"
   ]
  },
  {
   "cell_type": "markdown",
   "id": "a2f1a34c",
   "metadata": {},
   "source": [
    "   - A **tuple** object is a sequence of values (numerical and/or characters) that are **indexed** and specified within **parentheses**, separated by commas. Example:\n",
    "      ```python\n",
    "         x = (1, 5, 8, 10, 4, 50, 8) # Tuple consisting only of numbers\n",
    "         y = (\"Olivier\", \"ENGEL\", \"Strasbourg\") # Tuple consisting only of characters\n",
    "         z = (1, \"Olivier\", 5, 8, \"ENGEL\", 10, 4, 50, \"Strasbourg\") # Tuple consisting of both numbers and characters.\n",
    "       \n",
    "      ```\n",
    "     A tuple object can be generated manually by specifying the values within parentheses or automatically using the `tuple()` function.\n",
    "      ```python\n",
    "        x = tuple(range(1, 10))\n",
    "        print(x) # returns (1, 2, 3, 4, 5, 6, 7, 8, 9)\n",
    "     ```"
   ]
  },
  {
   "cell_type": "code",
   "execution_count": 8,
   "id": "8dc6ede1",
   "metadata": {},
   "outputs": [
    {
     "name": "stdout",
     "output_type": "stream",
     "text": [
      "(1, 2, 3, 4, 5, 6, 7, 8, 9, 10, 11, 12, 13, 14)\n"
     ]
    }
   ],
   "source": [
    "c= tuple(range(1, 15))\n",
    "print(c) # returns (1, 2, 3, 4, 5, 6, 7, 8, 9,10,11,12,13,14)"
   ]
  },
  {
   "cell_type": "markdown",
   "id": "7267997d",
   "metadata": {},
   "source": [
    " - A **set** object is a sequence of values (numerical and/or characters) that are **non-duplicated** and **non-indexed**, and specified within **curly braces**, separated by commas. Example:\n",
    "      ```python\n",
    "         x = {1, 5, 8, 10, 4, 50, 8} # Set consisting only of numbers\n",
    "         y = {\"Olivier\", \"ENGEL\", \"Strasbourg\"} # Set consisting only of characters\n",
    "         z = {1, \"Olivier\", 5, 8, \"ENGEL\", 10, 4, 50, \"Strasbourg\"} # Set consisting of both numbers and characters.\n",
    "       \n",
    "      ```\n",
    "     A set object can be generated manually by specifying the values within curly braces or automatically using the `set()` function.\n",
    "      ```python\n",
    "         v = [2, 4, \"orange\", \"meat\", 4, \"orange\"]\n",
    "         V = set(v)\n",
    "         print(V) # returns {2, 'orange', 4, 'meat'}\n",
    "      \n",
    "      ```"
   ]
  },
  {
   "cell_type": "code",
   "execution_count": 5,
   "id": "a5ea7b76",
   "metadata": {},
   "outputs": [
    {
     "name": "stdout",
     "output_type": "stream",
     "text": [
      "{5, 6, 7, 'orange', 'meat'}\n"
     ]
    }
   ],
   "source": [
    "a = [6, 5, \"orange\", \"meat\", 7, \"orange\"]\n",
    "a = set(a)\n",
    "print(a) # returns {6, 'orange', 7, 'meat'}"
   ]
  },
  {
   "cell_type": "code",
   "execution_count": null,
   "id": "97bec37d",
   "metadata": {},
   "outputs": [],
   "source": []
  }
 ],
 "metadata": {
  "kernelspec": {
   "display_name": "Python 3 (ipykernel)",
   "language": "python",
   "name": "python3"
  },
  "language_info": {
   "codemirror_mode": {
    "name": "ipython",
    "version": 3
   },
   "file_extension": ".py",
   "mimetype": "text/x-python",
   "name": "python",
   "nbconvert_exporter": "python",
   "pygments_lexer": "ipython3",
   "version": "3.11.5"
  }
 },
 "nbformat": 4,
 "nbformat_minor": 5
}
