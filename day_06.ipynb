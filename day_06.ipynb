{
  "nbformat": 4,
  "nbformat_minor": 0,
  "metadata": {
    "colab": {
      "provenance": [],
      "authorship_tag": "ABX9TyMOe6BeV81kQhN4w9JsW7Uj",
      "include_colab_link": true
    },
    "kernelspec": {
      "name": "python3",
      "display_name": "Python 3"
    },
    "language_info": {
      "name": "python"
    }
  },
  "cells": [
    {
      "cell_type": "markdown",
      "metadata": {
        "id": "view-in-github",
        "colab_type": "text"
      },
      "source": [
        "<a href=\"https://colab.research.google.com/github/Alliance2k2/alliance.irigenera-daily-reports/blob/main/day_06.ipynb\" target=\"_parent\"><img src=\"https://colab.research.google.com/assets/colab-badge.svg\" alt=\"Open In Colab\"/></a>"
      ]
    },
    {
      "cell_type": "code",
      "execution_count": 3,
      "metadata": {
        "colab": {
          "base_uri": "https://localhost:8080/"
        },
        "id": "k5rUTzRVXL4U",
        "outputId": "075b59e0-293f-446a-cce0-991acb56696d"
      },
      "outputs": [
        {
          "output_type": "stream",
          "name": "stdout",
          "text": [
            "a is greater than b\n",
            "The dif is ...\n"
          ]
        }
      ],
      "source": [
        "a= 15\n",
        "b = 10\n",
        "if a > b:\n",
        "  print(\"a is greater than b\")\n",
        "  if (a -b >15):\n",
        "    print(\"the diff is ....\")\n",
        "  else:\n",
        "      print(\"The dif is ...\")\n",
        "else:\n",
        "    print(\"b is greater than a\")"
      ]
    },
    {
      "cell_type": "code",
      "source": [
        "a= eval(input(\"enter value of a:\"))\n",
        "b =eval(input(\"enter value of b :\"))\n",
        "c = eval(input(\"enter value of c:\"))\n",
        "delta = (b**2) - (4*a*c)\n",
        "if a != 0:\n",
        "   print(\"we have solution\")\n",
        "   if (delta >= 0):\n",
        "      x1 = (-b- (delta)**0.5)/(2*a)\n",
        "      x2 = (-bfr + (delta)**0.5)/(2*a)\n",
        "      print(x1, x2)\n",
        "   else:\n",
        "        print(\"no real solution\")\n",
        "else:\n",
        "  print(\"no solution\")\n",
        "\n",
        "\n",
        "\n",
        "\n"
      ],
      "metadata": {
        "colab": {
          "base_uri": "https://localhost:8080/"
        },
        "id": "YFG68hS6X-HC",
        "outputId": "84ea0773-9eef-4776-a9d1-a74904d83871"
      },
      "execution_count": 7,
      "outputs": [
        {
          "output_type": "stream",
          "name": "stdout",
          "text": [
            "enter value of a:1\n",
            "enter value of b :2\n",
            "enter value of c:1\n",
            "we have solution\n",
            "-2.0 -2.0\n"
          ]
        }
      ]
    },
    {
      "cell_type": "code",
      "source": [
        "i = 1\n",
        "while (i < 10 ):\n",
        "  print(\"The value of i is \", i)\n",
        "  i = i + 1"
      ],
      "metadata": {
        "colab": {
          "base_uri": "https://localhost:8080/"
        },
        "id": "wB-Nc2nmZkbP",
        "outputId": "3d21a406-e57c-4f16-f568-a6d0edf37688"
      },
      "execution_count": 1,
      "outputs": [
        {
          "output_type": "stream",
          "name": "stdout",
          "text": [
            "The value of i is  1\n",
            "The value of i is  2\n",
            "The value of i is  3\n",
            "The value of i is  4\n",
            "The value of i is  5\n",
            "The value of i is  6\n",
            "The value of i is  7\n",
            "The value of i is  8\n",
            "The value of i is  9\n"
          ]
        }
      ]
    },
    {
      "cell_type": "code",
      "source": [
        " n = 10\n",
        " for i in range(n):\n",
        "  print(i)"
      ],
      "metadata": {
        "id": "QRttcqeKhHVM",
        "colab": {
          "base_uri": "https://localhost:8080/"
        },
        "outputId": "8e5a9efb-0b00-4d34-97cf-1983f18b5e4f"
      },
      "execution_count": 5,
      "outputs": [
        {
          "output_type": "stream",
          "name": "stdout",
          "text": [
            "0\n",
            "1\n",
            "2\n",
            "3\n",
            "4\n",
            "5\n",
            "6\n",
            "7\n",
            "8\n",
            "9\n"
          ]
        }
      ]
    },
    {
      "cell_type": "code",
      "source": [
        "list_fr = [3,5, 'hello',98]\n",
        "for i in list_fr:\n",
        "    if i == 5:\n",
        "      print(\"We found it\")\n",
        "    else:\n",
        "        print(\"try again\")\n",
        "\n",
        "\n",
        ""
      ],
      "metadata": {
        "colab": {
          "base_uri": "https://localhost:8080/"
        },
        "id": "LyGUNrxokrW3",
        "outputId": "498c53ec-725e-49af-c9d1-f96a26d01193"
      },
      "execution_count": 13,
      "outputs": [
        {
          "output_type": "stream",
          "name": "stdout",
          "text": [
            "try again\n",
            "We found it\n",
            "try again\n",
            "try again\n"
          ]
        }
      ]
    },
    {
      "cell_type": "code",
      "source": [
        "sentence = \" Hello, wold\"\n",
        "for letter in sentence:\n",
        "  if letter in \"ABRDegty\":\n",
        "    print(' the letter', letter, \"is vowel\")\n",
        "  elif letter == \" \":\n",
        "    print(\"this is a likely a space\")\n",
        "  else:\n",
        "    print(\"the letter \", letter, \"is a consonant\")"
      ],
      "metadata": {
        "colab": {
          "base_uri": "https://localhost:8080/"
        },
        "id": "KoM9Oy4klu2H",
        "outputId": "16d67421-0fbf-4b33-b608-89f9213f4291"
      },
      "execution_count": 18,
      "outputs": [
        {
          "output_type": "stream",
          "name": "stdout",
          "text": [
            "this is a likely a space\n",
            "the letter  H is a consonant\n",
            " the letter e is vowel\n",
            "the letter  l is a consonant\n",
            "the letter  l is a consonant\n",
            "the letter  o is a consonant\n",
            "the letter  , is a consonant\n",
            "this is a likely a space\n",
            "the letter  w is a consonant\n",
            "the letter  o is a consonant\n",
            "the letter  l is a consonant\n",
            "the letter  d is a consonant\n"
          ]
        }
      ]
    },
    {
      "cell_type": "code",
      "source": [],
      "metadata": {
        "id": "3xGXjFY_naai"
      },
      "execution_count": null,
      "outputs": []
    }
  ]
}